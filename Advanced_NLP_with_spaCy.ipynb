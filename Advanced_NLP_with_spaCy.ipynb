{
  "nbformat": 4,
  "nbformat_minor": 0,
  "metadata": {
    "colab": {
      "name": "Advanced NLP with spaCy.ipynb",
      "provenance": [],
      "include_colab_link": true
    },
    "kernelspec": {
      "name": "python3",
      "display_name": "Python 3"
    },
    "accelerator": "TPU"
  },
  "cells": [
    {
      "cell_type": "markdown",
      "metadata": {
        "id": "view-in-github",
        "colab_type": "text"
      },
      "source": [
        "<a href=\"https://colab.research.google.com/github/MatthewTomas/spaCy/blob/master/Advanced_NLP_with_spaCy.ipynb\" target=\"_parent\"><img src=\"https://colab.research.google.com/assets/colab-badge.svg\" alt=\"Open In Colab\"/></a>"
      ]
    },
    {
      "cell_type": "markdown",
      "metadata": {
        "id": "kbuNZV_rfU6G",
        "colab_type": "text"
      },
      "source": [
        "# Advanced NLP with spaCy"
      ]
    },
    {
      "cell_type": "markdown",
      "metadata": {
        "id": "vC_anT6mfjUn",
        "colab_type": "text"
      },
      "source": [
        "[Original course link](https://course.spacy.io/)"
      ]
    },
    {
      "cell_type": "markdown",
      "metadata": {
        "id": "Rn9eTtlJfqut",
        "colab_type": "text"
      },
      "source": [
        "## Chapter 1: Finding words, phrases, names and concepts\n",
        "\n",
        "This chapter will introduce you to the basics of text processing with spaCy. You'll learn about the data structures, how to work with statistical models, and how to use them to predict linguistic features in your text."
      ]
    },
    {
      "cell_type": "markdown",
      "metadata": {
        "id": "xpmEuBBtfJIF",
        "colab_type": "text"
      },
      "source": [
        "### 1. Introduction to spaCy"
      ]
    },
    {
      "cell_type": "markdown",
      "metadata": {
        "id": "rSz2hDgxjMdT",
        "colab_type": "text"
      },
      "source": [
        "#### The nlp object"
      ]
    },
    {
      "cell_type": "markdown",
      "metadata": {
        "id": "v6sFf8kBip7J",
        "colab_type": "text"
      },
      "source": [
        "At the center of spaCy is the object containing the processing pipeline. We usually call this variable \"nlp\".\n",
        "\n",
        "For example, to create an English nlp object, you can import the English language class from spacy dot lang dot en and instantiate it. You can use the nlp object like a function to analyze text.\n",
        "\n",
        "It contains all the different components in the pipeline.\n",
        "\n",
        "It also includes language-specific rules used for tokenizing the text into words and punctuation. spaCy supports a variety of languages that are available in spacy dot lang."
      ]
    },
    {
      "cell_type": "code",
      "metadata": {
        "id": "ad9mzH1TfCvS",
        "colab_type": "code",
        "colab": {}
      },
      "source": [
        "# Import the English language class\n",
        "from spacy.lang.en import English\n",
        "\n",
        "# Create the nlp object\n",
        "nlp = English()"
      ],
      "execution_count": null,
      "outputs": []
    },
    {
      "cell_type": "markdown",
      "metadata": {
        "id": "dOEa7-y8jRIA",
        "colab_type": "text"
      },
      "source": [
        "#### The Doc object"
      ]
    },
    {
      "cell_type": "markdown",
      "metadata": {
        "id": "gn5rJe0Vholu",
        "colab_type": "text"
      },
      "source": [
        "When you process a text with the nlp object, spaCy creates a Doc object – short for \"document\". The Doc lets you access information about the text in a structured way, and no information is lost.\n",
        "\n",
        "The Doc behaves like a normal Python sequence by the way and lets you iterate over its tokens, or get a token by its index. But more on that later!\n"
      ]
    },
    {
      "cell_type": "code",
      "metadata": {
        "id": "1AOVjyTahrLJ",
        "colab_type": "code",
        "colab": {
          "base_uri": "https://localhost:8080/",
          "height": 69
        },
        "outputId": "7bdcc15e-3769-488e-fdd7-227e4f5e93f6"
      },
      "source": [
        "# Created by processing a string of text with the nlp object\n",
        "doc = nlp(\"Hello world!\")\n",
        "\n",
        "# Iterate over tokens in a Doc\n",
        "for token in doc:\n",
        "    print(token.text)"
      ],
      "execution_count": null,
      "outputs": [
        {
          "output_type": "stream",
          "text": [
            "Hello\n",
            "world\n",
            "!\n"
          ],
          "name": "stdout"
        }
      ]
    },
    {
      "cell_type": "markdown",
      "metadata": {
        "id": "IUXfnjjdjU6T",
        "colab_type": "text"
      },
      "source": [
        "#### The Token object"
      ]
    },
    {
      "cell_type": "markdown",
      "metadata": {
        "id": "3MhRSUuLiHUv",
        "colab_type": "text"
      },
      "source": [
        "Token objects represent the tokens in a document – for example, a word or a punctuation character.\n",
        "\n",
        "To get a token at a specific position, you can index into the Doc.\n",
        "\n",
        "Token objects also provide various attributes that let you access more information about the tokens. For example, the dot text attribute returns the verbatim token text.\n",
        "\n",
        "![alt text](https://course.spacy.io/doc.png)"
      ]
    },
    {
      "cell_type": "code",
      "metadata": {
        "id": "ECUwyYeLiKaS",
        "colab_type": "code",
        "colab": {
          "base_uri": "https://localhost:8080/",
          "height": 34
        },
        "outputId": "469123a8-4dbb-4a5f-e308-165bb7ab9cf2"
      },
      "source": [
        "doc = nlp(\"Hello world!\")\n",
        "\n",
        "# Index into the Doc to get a single Token\n",
        "token = doc[1]\n",
        "\n",
        "# Get the token text via the .text attribute\n",
        "print(token.text)"
      ],
      "execution_count": null,
      "outputs": [
        {
          "output_type": "stream",
          "text": [
            "world\n"
          ],
          "name": "stdout"
        }
      ]
    },
    {
      "cell_type": "markdown",
      "metadata": {
        "id": "C0c93CFmjZw5",
        "colab_type": "text"
      },
      "source": [
        "#### The Span object"
      ]
    },
    {
      "cell_type": "markdown",
      "metadata": {
        "id": "6eA1oMFjijGT",
        "colab_type": "text"
      },
      "source": [
        "A Span object is a slice of the document consisting of one or more tokens. It's only a view of the Doc and doesn't contain any data itself.\n",
        "\n",
        "To create a Span, you can use Python's slice notation. For example, 1 colon 3 will create a slice starting from the token at position 1, up to – but not including! – the token at position 3.\n",
        "\n",
        "![alt text](https://course.spacy.io/doc_span.png)"
      ]
    },
    {
      "cell_type": "code",
      "metadata": {
        "id": "d9TwF9BljGOi",
        "colab_type": "code",
        "colab": {
          "base_uri": "https://localhost:8080/",
          "height": 34
        },
        "outputId": "b84fc411-a5b5-4a07-d2ea-0222d6082669"
      },
      "source": [
        "doc = nlp(\"Hello world!\")\n",
        "\n",
        "# A slice from the Doc is a Span object\n",
        "span = doc[1:4]\n",
        "\n",
        "# Get the span text via the .text attribute\n",
        "print(span.text)"
      ],
      "execution_count": null,
      "outputs": [
        {
          "output_type": "stream",
          "text": [
            "world!\n"
          ],
          "name": "stdout"
        }
      ]
    },
    {
      "cell_type": "markdown",
      "metadata": {
        "id": "y9NoENA8jnco",
        "colab_type": "text"
      },
      "source": [
        "#### Lexical Attributes"
      ]
    },
    {
      "cell_type": "markdown",
      "metadata": {
        "id": "U1VM-yxejqky",
        "colab_type": "text"
      },
      "source": [
        "Here you can see some of the available token attributes:\n",
        "\n",
        "\"i\" is the index of the token within the parent document.\n",
        "\n",
        "\"text\" returns the token text.\n",
        "\n",
        "\"is alpha\", \"is punct\" and \"like num\" return boolean values indicating whether the token consists of alphanumeric characters, whether it's punctuation or whether it resembles a number. For example, a token \"10\" – one, zero – or the word \"ten\" – T, E, N.\n",
        "\n",
        "These attributes are also called lexical attributes: they refer to the entry in the vocabulary and don't depend on the token's context.\n"
      ]
    },
    {
      "cell_type": "code",
      "metadata": {
        "id": "KLfr6ekAjtAl",
        "colab_type": "code",
        "colab": {}
      },
      "source": [
        "doc = nlp(\"It costs $5.\")"
      ],
      "execution_count": null,
      "outputs": []
    },
    {
      "cell_type": "code",
      "metadata": {
        "id": "hHMVT9dsjx2A",
        "colab_type": "code",
        "colab": {
          "base_uri": "https://localhost:8080/",
          "height": 104
        },
        "outputId": "8b93abbb-ab38-4352-87d7-38f058828f43"
      },
      "source": [
        "print('Index:   ', [token.i for token in doc])\n",
        "print('Text:    ', [token.text for token in doc])\n",
        "\n",
        "print('is_alpha:', [token.is_alpha for token in doc])\n",
        "print('is_punct:', [token.is_punct for token in doc])\n",
        "print('like_num:', [token.like_num for token in doc])"
      ],
      "execution_count": null,
      "outputs": [
        {
          "output_type": "stream",
          "text": [
            "Index:    [0, 1, 2, 3, 4]\n",
            "Text:     ['It', 'costs', '$', '5', '.']\n",
            "is_alpha: [True, True, False, False, False]\n",
            "is_punct: [False, False, False, False, True]\n",
            "like_num: [False, False, False, True, False]\n"
          ],
          "name": "stdout"
        }
      ]
    },
    {
      "cell_type": "code",
      "metadata": {
        "id": "F6Ea6YTLD13l",
        "colab_type": "code",
        "colab": {}
      },
      "source": [
        ""
      ],
      "execution_count": null,
      "outputs": []
    },
    {
      "cell_type": "markdown",
      "metadata": {
        "id": "tCQW1vgKwqIM",
        "colab_type": "text"
      },
      "source": [
        "### 2. Getting Started"
      ]
    },
    {
      "cell_type": "markdown",
      "metadata": {
        "id": "z5obxAuQwrsh",
        "colab_type": "text"
      },
      "source": [
        "Let’s get started and try out spaCy! In this exercise, you’ll be able to try out some of the [45+ available languages](https://spacy.io/usage/models#languages).\n",
        "\n",
        "Part 1: English\n",
        "\n",
        "*   Import the `English` class from `spacy.lang.en` and create the `nlp` object.\n",
        "*   Create a `doc` and print its text."
      ]
    },
    {
      "cell_type": "code",
      "metadata": {
        "id": "WrEolYxEw0dC",
        "colab_type": "code",
        "colab": {
          "base_uri": "https://localhost:8080/"
        },
        "outputId": "5c8db1db-5b84-47bd-836d-8869f4bbe4ec"
      },
      "source": [
        "# Import the English language class\n",
        "from spacy.lang.en import English\n",
        "\n",
        "# Create the nlp object\n",
        "nlp = English()\n",
        "\n",
        "# Process a text\n",
        "doc = nlp(\"This is a sentence.\")\n",
        "\n",
        "# Print the document text\n",
        "print(doc.text)"
      ],
      "execution_count": null,
      "outputs": [
        {
          "output_type": "stream",
          "text": [
            "This is a sentence.\n"
          ],
          "name": "stdout"
        }
      ]
    },
    {
      "cell_type": "markdown",
      "metadata": {
        "id": "NBZ3XHzRx8Th",
        "colab_type": "text"
      },
      "source": [
        "Part 2: German\n",
        "\n",
        "*   Import the `German` class from `spacy.lang.de` and create the `nlp` object.\n",
        "*   Create a `doc` and print its text."
      ]
    },
    {
      "cell_type": "code",
      "metadata": {
        "id": "ZyhL5cNhyEvH",
        "colab_type": "code",
        "colab": {
          "base_uri": "https://localhost:8080/"
        },
        "outputId": "cdf55745-f7dc-4ddb-adfc-7d008feb90a1"
      },
      "source": [
        "# Import the German language class\n",
        "from spacy.lang.de import German\n",
        "\n",
        "# Create the nlp object\n",
        "nlp = German()\n",
        "\n",
        "# Process a text (this is German for: \"Kind regards!\")\n",
        "doc = nlp(\"Liebe Grüße!\")\n",
        "\n",
        "# Print the document text\n",
        "print(doc.text)"
      ],
      "execution_count": null,
      "outputs": [
        {
          "output_type": "stream",
          "text": [
            "Liebe Grüße!\n"
          ],
          "name": "stdout"
        }
      ]
    },
    {
      "cell_type": "markdown",
      "metadata": {
        "id": "QxEEYS4CyUki",
        "colab_type": "text"
      },
      "source": [
        "Part 3: Spanish\n",
        "\n",
        "*   Import the `Spanish` class from `spacy.lang.es` and create the `nlp` object.\n",
        "*   Create a `doc` and print its text.\n",
        "\n"
      ]
    },
    {
      "cell_type": "code",
      "metadata": {
        "id": "-KhD0mjiyi4M",
        "colab_type": "code",
        "colab": {
          "base_uri": "https://localhost:8080/"
        },
        "outputId": "ce422b99-f93f-46ee-85a9-de18e9c520cd"
      },
      "source": [
        "# Import the Spanish language class\n",
        "from spacy.lang.es import Spanish\n",
        "\n",
        "# Create the nlp object\n",
        "nlp = Spanish()\n",
        "\n",
        "# Process a text (this is Spanish for: \"How are you?\")\n",
        "doc = nlp(\"¿Cómo estás?\")\n",
        "\n",
        "# Print the document text\n",
        "print(doc.text)"
      ],
      "execution_count": null,
      "outputs": [
        {
          "output_type": "stream",
          "text": [
            "¿Cómo estás?\n"
          ],
          "name": "stdout"
        }
      ]
    },
    {
      "cell_type": "markdown",
      "metadata": {
        "id": "XkdPcZRBy5fo",
        "colab_type": "text"
      },
      "source": [
        "### 3. Documents, spans and tokens"
      ]
    },
    {
      "cell_type": "markdown",
      "metadata": {
        "id": "aHJlyoz7y725",
        "colab_type": "text"
      },
      "source": [
        "When you call `nlp` on a string, spaCy first tokenizes the text and creates a document object. In this exercise, you’ll learn more about the `Doc`, as well as its views `Token` and `Span`.\n",
        "\n",
        "**Step 1**\n",
        "\n",
        "\n",
        "*   Import the `English` language class and create the `nlp` object.\n",
        "*   Process the text and instantiate a `Doc` object in the variable `doc`.\n",
        "*   Select the first token of the `Doc` and print its `text`.\n",
        "\n"
      ]
    },
    {
      "cell_type": "code",
      "metadata": {
        "id": "L3jQqCmsnVoV",
        "colab_type": "code",
        "colab": {
          "base_uri": "https://localhost:8080/"
        },
        "outputId": "dcb91c5d-66ef-4b03-dc65-4c295dbdc539"
      },
      "source": [
        "# Import the English language class and create the nlp object\n",
        "from spacy.lang.en import English\n",
        "\n",
        "nlp = English()\n",
        "\n",
        "# Process the text\n",
        "doc = nlp(\"I like tree kangaroos and narwhals.\")\n",
        "\n",
        "# Select the first token\n",
        "first_token = doc[0]\n",
        "\n",
        "# Print the first token's text\n",
        "print(first_token.text)"
      ],
      "execution_count": null,
      "outputs": [
        {
          "output_type": "stream",
          "text": [
            "I\n"
          ],
          "name": "stdout"
        }
      ]
    },
    {
      "cell_type": "markdown",
      "metadata": {
        "id": "aTGFoY2On1oW",
        "colab_type": "text"
      },
      "source": [
        "**Step 2**\n",
        "\n",
        "*   Import the `English` language class and create the `nlp` object.\n",
        "*   Process the text and instantiate a `Doc` object in the variable `doc`.\n",
        "*   Create a slice of the Doc for the tokens “tree kangaroos” and “tree kangaroos and narwhals”."
      ]
    },
    {
      "cell_type": "code",
      "metadata": {
        "id": "pn6ceMrEoU_X",
        "colab_type": "code",
        "colab": {
          "base_uri": "https://localhost:8080/"
        },
        "outputId": "30bc1eb5-57d5-43ea-8d6f-a2779675f792"
      },
      "source": [
        "# Import the English language class and create the nlp object\n",
        "from spacy.lang.en import English\n",
        "\n",
        "nlp = English()\n",
        "\n",
        "# Process the text\n",
        "doc = nlp(\"I like tree kangaroos and narwhals.\")\n",
        "\n",
        "# A slice of the Doc for \"tree kangaroos\"\n",
        "tree_kangaroos = doc[2:4]\n",
        "print(tree_kangaroos.text)\n",
        "\n",
        "# A slice of the Doc for \"tree kangaroos and narwhals\" (without the \".\")\n",
        "tree_kangaroos_and_narwhals = doc[2:6]\n",
        "print(tree_kangaroos_and_narwhals.text)"
      ],
      "execution_count": null,
      "outputs": [
        {
          "output_type": "stream",
          "text": [
            "tree kangaroos\n",
            "tree kangaroos and narwhals\n"
          ],
          "name": "stdout"
        }
      ]
    },
    {
      "cell_type": "markdown",
      "metadata": {
        "id": "kEuxFW1MowoJ",
        "colab_type": "text"
      },
      "source": [
        "### 4. Lexical attributes"
      ]
    },
    {
      "cell_type": "markdown",
      "metadata": {
        "id": "lsnw-Fanoy3O",
        "colab_type": "text"
      },
      "source": [
        "In this example, you’ll use spaCy’s `Doc` and `Token` objects, and lexical attributes to find percentages in a text. You’ll be looking for two subsequent tokens: a number and a percent sign.\n",
        "\n",
        "* Use the `like_num` token attribute to check whether a token in the `doc` resembles a number.\n",
        "* Get the token *following* the current token in the document. The index of the next token in the `doc` is `token.i + 1`.\n",
        "* Check whether the next token’s `text` attribute is a percent sign ”%“."
      ]
    },
    {
      "cell_type": "code",
      "metadata": {
        "id": "JOsUkWe2pKxI",
        "colab_type": "code",
        "colab": {
          "base_uri": "https://localhost:8080/",
          "height": 52
        },
        "outputId": "766a7cfc-f393-4602-8d5f-8c9a235154f0"
      },
      "source": [
        "from spacy.lang.en import English\n",
        "\n",
        "nlp = English()\n",
        "\n",
        "# Process the text\n",
        "doc = nlp(\n",
        "    \"In 1990, more than 60% of people in East Asia were in extreme poverty. \"\n",
        "    \"Now less than 4% are.\"\n",
        ")\n",
        "\n",
        "# Iterate over the tokens in the doc\n",
        "for token in doc:\n",
        "    # Check if the token resembles a number\n",
        "    if token.like_num:\n",
        "        # Get the next token in the document\n",
        "        next_token = doc[token.i + 1]\n",
        "        # Check if the next token's text equals '%'\n",
        "        if next_token.text == \"%\":\n",
        "            print(\"Percentage found:\", token.text)"
      ],
      "execution_count": null,
      "outputs": [
        {
          "output_type": "stream",
          "text": [
            "Percentage found: 60\n",
            "Percentage found: 4\n"
          ],
          "name": "stdout"
        }
      ]
    },
    {
      "cell_type": "markdown",
      "metadata": {
        "id": "d8jZoQ1oqA3k",
        "colab_type": "text"
      },
      "source": [
        "### 5. Statistical models"
      ]
    },
    {
      "cell_type": "markdown",
      "metadata": {
        "id": "HeMDIiL19u1F",
        "colab_type": "text"
      },
      "source": [
        "Let's add some more power to the nlp object!\n",
        "\n",
        "In this lesson, you'll learn about spaCy's statistical models."
      ]
    },
    {
      "cell_type": "markdown",
      "metadata": {
        "id": "Zeyzoj_59yTk",
        "colab_type": "text"
      },
      "source": [
        "#### What are statistical models?"
      ]
    },
    {
      "cell_type": "markdown",
      "metadata": {
        "id": "avkEe6gMqUZg",
        "colab_type": "text"
      },
      "source": [
        "\n",
        "*   Enable spaCy to predict linguistic attributes in *context*\n",
        "  *   Part-of-speech tags\n",
        "  *  Syntactic dependencies\n",
        "  *  Named entities\n",
        "*   Trained on labeled example texts\n",
        "*  Can be updated with more examples to fine-tune predictions\n",
        "\n",
        "Some of the most interesting things you can analyze are context-specific: for example, whether a word is a verb or whether a span of text is a person name.\n",
        "\n",
        "Statistical models enable spaCy to make predictions in context. This usually includes part-of speech tags, syntactic dependencies and named entities.\n",
        "\n",
        "Models are trained on large datasets of labeled example texts.\n",
        "\n",
        "They can be updated with more examples to fine-tune their predictions – for example, to perform better on your specific data.\n"
      ]
    },
    {
      "cell_type": "markdown",
      "metadata": {
        "id": "_SM_hlDQrRHv",
        "colab_type": "text"
      },
      "source": [
        "#### Model Packages"
      ]
    },
    {
      "cell_type": "markdown",
      "metadata": {
        "id": "7SQlAnlMrS-y",
        "colab_type": "text"
      },
      "source": [
        "spaCy provides a number of pre-trained model packages you can download using the \"spacy download\" command. For example, the \"en_core_web_sm\" package is a small English model that supports all core capabilities and is trained on web text.\n",
        "\n",
        "The spacy dot load method loads a model package by name and returns an nlp object.\n",
        "\n",
        "The package provides the binary weights that enable spaCy to make predictions.\n",
        "\n",
        "It also includes the vocabulary, and meta information to tell spaCy which language class to use and how to configure the processing pipeline.\n",
        "\n",
        "*   Binary weights\n",
        "*   Vocabulary\n",
        "*   Meta information (language, pipeline)"
      ]
    },
    {
      "cell_type": "code",
      "metadata": {
        "id": "ZxtF9UQ8q-yZ",
        "colab_type": "code",
        "colab": {
          "base_uri": "https://localhost:8080/",
          "height": 176
        },
        "outputId": "48e6d284-e6a7-4201-815e-0fdfc4ab00d7"
      },
      "source": [
        "! python -m spacy download en_core_web_sm"
      ],
      "execution_count": null,
      "outputs": [
        {
          "output_type": "stream",
          "text": [
            "Requirement already satisfied: en_core_web_sm==2.0.0 from https://github.com/explosion/spacy-models/releases/download/en_core_web_sm-2.0.0/en_core_web_sm-2.0.0.tar.gz#egg=en_core_web_sm==2.0.0 in /usr/local/lib/python3.6/dist-packages (2.0.0)\n",
            "\n",
            "\u001b[93m    Linking successful\u001b[0m\n",
            "    /usr/local/lib/python3.6/dist-packages/en_core_web_sm -->\n",
            "    /usr/local/lib/python3.6/dist-packages/spacy/data/en_core_web_sm\n",
            "\n",
            "    You can now load the model via spacy.load('en_core_web_sm')\n",
            "\n"
          ],
          "name": "stdout"
        }
      ]
    },
    {
      "cell_type": "code",
      "metadata": {
        "id": "Q3-vvaD0rLas",
        "colab_type": "code",
        "colab": {}
      },
      "source": [
        "import spacy\n",
        "\n",
        "nlp = spacy.load('en_core_web_sm')"
      ],
      "execution_count": null,
      "outputs": []
    },
    {
      "cell_type": "markdown",
      "metadata": {
        "id": "7u0Kr3Ri9-ms",
        "colab_type": "text"
      },
      "source": [
        "#### Predicting Parts-of-speech Tags"
      ]
    },
    {
      "cell_type": "markdown",
      "metadata": {
        "id": "WiKNiy367xGR",
        "colab_type": "text"
      },
      "source": [
        "\n",
        "\n",
        "Let's take a look at the model's predictions. In this example, we're using spaCy to predict part-of-speech tags, the word types in context.\n",
        "\n",
        "First, we load the small English model and receive an nlp object.\n",
        "\n",
        "Next, we're processing the text \"She ate the pizza\".\n",
        "\n",
        "For each token in the Doc, we can print the text and the \"pos underscore\" attribute, the predicted part-of-speech tag.\n",
        "\n",
        "In spaCy, attributes that return strings usually end with an underscore – attributes without the underscore return an ID.\n",
        "\n",
        "Here, the model correctly predicted \"ate\" as a verb and \"pizza\" as a noun.\n"
      ]
    },
    {
      "cell_type": "code",
      "metadata": {
        "id": "5vlxpl-g72vt",
        "colab_type": "code",
        "colab": {
          "base_uri": "https://localhost:8080/",
          "height": 86
        },
        "outputId": "0a7dc8b7-a13d-47be-d97f-ea8c7064fb90"
      },
      "source": [
        "import spacy\n",
        "\n",
        "# Load the small English model\n",
        "nlp = spacy.load('en_core_web_sm')\n",
        "\n",
        "# Process a text\n",
        "doc = nlp(\"She ate the pizza\")\n",
        "\n",
        "# Iterate over the tokens\n",
        "for token in doc:\n",
        "    # Print the text and the predicted part-of-speech tag\n",
        "    print(token.text, token.pos_)"
      ],
      "execution_count": null,
      "outputs": [
        {
          "output_type": "stream",
          "text": [
            "She PRON\n",
            "ate VERB\n",
            "the DET\n",
            "pizza NOUN\n"
          ],
          "name": "stdout"
        }
      ]
    },
    {
      "cell_type": "markdown",
      "metadata": {
        "id": "BICPpT5l-CXC",
        "colab_type": "text"
      },
      "source": [
        "#### Predicting Syntactic Dependencies"
      ]
    },
    {
      "cell_type": "markdown",
      "metadata": {
        "id": "k3D9llsi8Z2H",
        "colab_type": "text"
      },
      "source": [
        "\n",
        "\n",
        "In addition to the part-of-speech tags, we can also predict how the words are related. For example, whether a word is the subject of the sentence or an object.\n",
        "\n",
        "The \"dep underscore\" attribute returns the predicted dependency label.\n",
        "\n",
        "The head attribute returns the syntactic head token. You can also think of it as the parent token this word is attached to."
      ]
    },
    {
      "cell_type": "code",
      "metadata": {
        "id": "4dWnQZ2x8gUn",
        "colab_type": "code",
        "colab": {
          "base_uri": "https://localhost:8080/",
          "height": 86
        },
        "outputId": "0d84db37-46e9-45c1-f60c-4274c7b2038d"
      },
      "source": [
        "for token in doc:\n",
        "    print(token.text, token.pos_, token.dep_, token.head.text)"
      ],
      "execution_count": null,
      "outputs": [
        {
          "output_type": "stream",
          "text": [
            "She PRON nsubj ate\n",
            "ate VERB ROOT ate\n",
            "the DET det pizza\n",
            "pizza NOUN dobj ate\n"
          ],
          "name": "stdout"
        }
      ]
    },
    {
      "cell_type": "markdown",
      "metadata": {
        "id": "98YRYbDH-FFf",
        "colab_type": "text"
      },
      "source": [
        "#### Dependency label scheme"
      ]
    },
    {
      "cell_type": "markdown",
      "metadata": {
        "id": "7wPtpOyh87DX",
        "colab_type": "text"
      },
      "source": [
        "\n",
        "\n",
        "![alt text](https://course.spacy.io/dep_example.png)\n",
        "\n",
        "To describe syntactic dependencies, spaCy uses a standardized label scheme. Here's an example of some common labels:\n",
        "\n",
        "The pronoun \"She\" is a nominal subject attached to the verb – in this case, to \"ate\".\n",
        "\n",
        "The noun \"pizza\" is a direct object attached to the verb \"ate\". It is eaten by the subject, \"she\".\n",
        "\n",
        "The determiner \"the\", also known as an article, is attached to the noun \"pizza\".\n",
        "\n",
        "| Label | Description          | Example |\n",
        "|-------|----------------------|---------|\n",
        "| nsubj | nominal subject      | She     |\n",
        "| dobj  | direct object        | pizza   |\n",
        "| det   | determiner (article) | the     |"
      ]
    },
    {
      "cell_type": "markdown",
      "metadata": {
        "id": "qTMQeKBG9mKk",
        "colab_type": "text"
      },
      "source": [
        "#### Predicting Named Entities"
      ]
    },
    {
      "cell_type": "markdown",
      "metadata": {
        "id": "Hcyq50Hi-NJp",
        "colab_type": "text"
      },
      "source": [
        "Named entities are \"real world objects\" that are assigned a name – for example, a person, an organization or a country.\n",
        "\n",
        "The doc dot ents property lets you access the named entities predicted by the model.\n",
        "\n",
        "It returns an iterator of Span objects, so we can print the entity text and the entity label using the \"label underscore\" attribute.\n",
        "\n",
        "In this case, the model is correctly predicting \"Apple\" as an organization, \"U.K.\" as a geopolitical entity and \"$1 billion\" as money.\n",
        "\n",
        "![alt text](https://course.spacy.io/ner_example.png)"
      ]
    },
    {
      "cell_type": "code",
      "metadata": {
        "id": "2O7qyaYf-SUv",
        "colab_type": "code",
        "colab": {
          "base_uri": "https://localhost:8080/",
          "height": 69
        },
        "outputId": "12fc7ae5-2953-4e4f-e4ed-80e55b3e8a67"
      },
      "source": [
        "# Process a text\n",
        "doc = nlp(u\"Apple is looking at buying U.K. startup for $1 billion\")\n",
        "\n",
        "# Iterate over the predicted entities\n",
        "for ent in doc.ents:\n",
        "    # Print the entity text and its label\n",
        "    print(ent.text, ent.label_)"
      ],
      "execution_count": null,
      "outputs": [
        {
          "output_type": "stream",
          "text": [
            "Apple ORG\n",
            "U.K. GPE\n",
            "$1 billion MONEY\n"
          ],
          "name": "stdout"
        }
      ]
    },
    {
      "cell_type": "markdown",
      "metadata": {
        "id": "CErjes3H-_CX",
        "colab_type": "text"
      },
      "source": [
        "#### Tip: the explain method"
      ]
    },
    {
      "cell_type": "markdown",
      "metadata": {
        "id": "bQcQfa9H_Bet",
        "colab_type": "text"
      },
      "source": [
        "A quick tip: To get definitions for the most common tags and labels, you can use the spacy dot explain helper function.\n",
        "\n",
        "For example, \"GPE\" for geopolitical entity isn't exactly intuitive – but spacy dot explain can tell you that it refers to countries, cities and states.\n",
        "\n",
        "The same works for part-of-speech tags and dependency labels.\n"
      ]
    },
    {
      "cell_type": "code",
      "metadata": {
        "id": "LtEsvgcS_Ha5",
        "colab_type": "code",
        "colab": {
          "base_uri": "https://localhost:8080/",
          "height": 34
        },
        "outputId": "a826eb82-f96e-4bfb-e5ed-202436653912"
      },
      "source": [
        "spacy.explain('GPE')"
      ],
      "execution_count": null,
      "outputs": [
        {
          "output_type": "execute_result",
          "data": {
            "text/plain": [
              "'Countries, cities, states'"
            ]
          },
          "metadata": {
            "tags": []
          },
          "execution_count": 52
        }
      ]
    },
    {
      "cell_type": "code",
      "metadata": {
        "id": "K6_KtGTo_JYS",
        "colab_type": "code",
        "colab": {
          "base_uri": "https://localhost:8080/",
          "height": 34
        },
        "outputId": "c1b2232a-8881-4938-e79e-b83f4ab5244d"
      },
      "source": [
        "spacy.explain('NNP')"
      ],
      "execution_count": null,
      "outputs": [
        {
          "output_type": "execute_result",
          "data": {
            "text/plain": [
              "'noun, proper singular'"
            ]
          },
          "metadata": {
            "tags": []
          },
          "execution_count": 53
        }
      ]
    },
    {
      "cell_type": "code",
      "metadata": {
        "id": "MteN81ax_Lma",
        "colab_type": "code",
        "colab": {
          "base_uri": "https://localhost:8080/",
          "height": 34
        },
        "outputId": "38c58886-559d-4a5e-95f1-6769244a29ca"
      },
      "source": [
        "spacy.explain('dobj')"
      ],
      "execution_count": null,
      "outputs": [
        {
          "output_type": "execute_result",
          "data": {
            "text/plain": [
              "'direct object'"
            ]
          },
          "metadata": {
            "tags": []
          },
          "execution_count": 54
        }
      ]
    },
    {
      "cell_type": "markdown",
      "metadata": {
        "id": "UHjJX9ua_gTj",
        "colab_type": "text"
      },
      "source": [
        "### 6. Model packages"
      ]
    },
    {
      "cell_type": "markdown",
      "metadata": {
        "id": "z2zFKkQ1_kl3",
        "colab_type": "text"
      },
      "source": [
        "What’s not included in a model package that you can load into spaCy?\n",
        "\n",
        "1.   A meta file including the language, pipeline and license.\n",
        "2.   Binary weights to make statistical predictions.\n",
        "3.   The labelled data that the model was trained on.\n",
        "4.   Strings of the model's vocabulary and their hashes.\n",
        "\n",
        "ANSWER: Run code below."
      ]
    },
    {
      "cell_type": "code",
      "metadata": {
        "id": "uOGQd8JxAEwS",
        "colab_type": "code",
        "colab": {
          "base_uri": "https://localhost:8080/",
          "height": 34
        },
        "outputId": "abe4eff6-5a32-41e8-c631-8f415d036c22"
      },
      "source": [
        "round(int('\\u0035') // 1.5)"
      ],
      "execution_count": null,
      "outputs": [
        {
          "output_type": "execute_result",
          "data": {
            "text/plain": [
              "3"
            ]
          },
          "metadata": {
            "tags": []
          },
          "execution_count": 68
        }
      ]
    },
    {
      "cell_type": "markdown",
      "metadata": {
        "id": "ELYfu651CQu9",
        "colab_type": "text"
      },
      "source": [
        "### 7. Loading models"
      ]
    },
    {
      "cell_type": "markdown",
      "metadata": {
        "id": "Rhg1vex6CW5g",
        "colab_type": "text"
      },
      "source": [
        "The models we’re using in this course are already pre-installed. For more details on spaCy’s statistical models and how to install them on your machine, see [the documentation](https://spacy.io/usage/models).\n",
        "\n",
        "*   Use `spacy.load` to load the small English model `'en_core_web 'en_c_sm'`.\n",
        "*   Process the text and print the document text."
      ]
    },
    {
      "cell_type": "code",
      "metadata": {
        "id": "WZfwDcb5Co7x",
        "colab_type": "code",
        "colab": {
          "base_uri": "https://localhost:8080/",
          "height": 34
        },
        "outputId": "ecfa72bf-8d08-4478-f606-28765eab67e4"
      },
      "source": [
        "import spacy\n",
        "\n",
        "# Load the 'en_core_web_sm' model\n",
        "nlp = spacy.load('en_core_web_sm')\n",
        "\n",
        "text = \"It’s official: Apple is the first U.S. public company to reach a $1 trillion market value\"\n",
        "\n",
        "# Process the text\n",
        "doc = nlp(text)\n",
        "\n",
        "# Print the document text\n",
        "print(doc.text)"
      ],
      "execution_count": null,
      "outputs": [
        {
          "output_type": "stream",
          "text": [
            "It’s official: Apple is the first U.S. public company to reach a $1 trillion market value\n"
          ],
          "name": "stdout"
        }
      ]
    },
    {
      "cell_type": "markdown",
      "metadata": {
        "id": "0JwF7ZybG2-h",
        "colab_type": "text"
      },
      "source": [
        "### 8. Predicting linguistic annotations"
      ]
    },
    {
      "cell_type": "markdown",
      "metadata": {
        "id": "hk09FabdG8XF",
        "colab_type": "text"
      },
      "source": [
        "You’ll now get to try one of spaCy’s pre-trained model packages and see its predictions in action. Feel free to try it out on your own text! To find out what a tag or label means, you can call `spacy.explain` in the loop. For example: `spacy.explain('PROPN')` or `spacy.explain('GPE')`.\n",
        "\n",
        "**Part 1**\n",
        "\n",
        "\n",
        "*   Process the text with the `nlp` object and create a `doc`.\n",
        "*   For each token, print the token text, the token’s `.pos_` (part-of-speech tag) and the token’s `.dep_` (dependency label).\n",
        "\n"
      ]
    },
    {
      "cell_type": "code",
      "metadata": {
        "id": "8N_kcfQTHQ3o",
        "colab_type": "code",
        "colab": {
          "base_uri": "https://localhost:8080/",
          "height": 347
        },
        "outputId": "6ecd6cd5-a08f-42db-d46e-d6848ab66a66"
      },
      "source": [
        "import spacy\n",
        "\n",
        "nlp = spacy.load(\"en_core_web_sm\")\n",
        "\n",
        "text = \"It’s official: Apple is the first U.S. public company to reach a $1 trillion market value\"\n",
        "\n",
        "# Process the text\n",
        "doc = nlp(text)\n",
        "\n",
        "token_pos_set = set()\n",
        "token_dep_set = set()\n",
        "for token in doc:\n",
        "    # Get the token text, part-of-speech tag and dependency label\n",
        "    token_text = token.text\n",
        "    token_pos = token.pos_\n",
        "    token_dep = token.dep_\n",
        "    token_pos_set.add(token_pos)\n",
        "    token_dep_set.add(token_dep)\n",
        "    # This is for formatting only\n",
        "    print(\"{:<12}{:<10}{:<10}\".format(token_text, token_pos, token_dep))"
      ],
      "execution_count": null,
      "outputs": [
        {
          "output_type": "stream",
          "text": [
            "It          PRON      nsubj     \n",
            "’s          VERB      ccomp     \n",
            "official    NOUN      acomp     \n",
            ":           PUNCT     punct     \n",
            "Apple       PROPN     nsubj     \n",
            "is          VERB      ROOT      \n",
            "the         DET       det       \n",
            "first       ADJ       amod      \n",
            "U.S.        PROPN     nmod      \n",
            "public      ADJ       amod      \n",
            "company     NOUN      attr      \n",
            "to          PART      aux       \n",
            "reach       VERB      relcl     \n",
            "a           DET       det       \n",
            "$           SYM       quantmod  \n",
            "1           NUM       compound  \n",
            "trillion    NUM       nummod    \n",
            "market      NOUN      compound  \n",
            "value       NOUN      dobj      \n"
          ],
          "name": "stdout"
        }
      ]
    },
    {
      "cell_type": "code",
      "metadata": {
        "id": "rlMn13-hIov2",
        "colab_type": "code",
        "colab": {
          "base_uri": "https://localhost:8080/",
          "height": 503
        },
        "outputId": "f48a6982-22f1-42fb-fd10-156618881e3f"
      },
      "source": [
        "print('Parts of speech:')\n",
        "for pos in sorted(token_pos_set):\n",
        "    print(f'{pos}: {spacy.explain(pos)}')\n",
        "    \n",
        "print('\\nDependency labels:')\n",
        "for dep in sorted(token_dep_set):\n",
        "    print(f'{dep}: {spacy.explain(dep)}')"
      ],
      "execution_count": null,
      "outputs": [
        {
          "output_type": "stream",
          "text": [
            "Parts of speech:\n",
            "ADJ: adjective\n",
            "DET: determiner\n",
            "NOUN: noun\n",
            "NUM: numeral\n",
            "PART: particle\n",
            "PRON: pronoun\n",
            "PROPN: proper noun\n",
            "PUNCT: punctuation\n",
            "SYM: symbol\n",
            "VERB: verb\n",
            "\n",
            "Dependency labels:\n",
            "ROOT: None\n",
            "acomp: adjectival complement\n",
            "amod: adjectival modifier\n",
            "attr: attribute\n",
            "aux: auxiliary\n",
            "ccomp: clausal complement\n",
            "compound: None\n",
            "det: determiner\n",
            "dobj: direct object\n",
            "nmod: modifier of nominal\n",
            "nsubj: nominal subject\n",
            "nummod: None\n",
            "punct: punctuation\n",
            "quantmod: modifier of quantifier\n",
            "relcl: None\n"
          ],
          "name": "stdout"
        }
      ]
    },
    {
      "cell_type": "markdown",
      "metadata": {
        "id": "rxlBnsvlKT5F",
        "colab_type": "text"
      },
      "source": [
        "**Part 2**\n",
        "\n",
        "\n",
        "*   Process the text and create a `doc` object.\n",
        "*   Iterate over the `doc.ents` and print the entity text and `label_` attribute."
      ]
    },
    {
      "cell_type": "code",
      "metadata": {
        "id": "3pXtOrjEKd0m",
        "colab_type": "code",
        "colab": {
          "base_uri": "https://localhost:8080/",
          "height": 86
        },
        "outputId": "7d9dc943-4bd1-472d-beb6-2e6fbbaa09a7"
      },
      "source": [
        "import spacy\n",
        "\n",
        "nlp = spacy.load(\"en_core_web_sm\")\n",
        "\n",
        "text = \"It’s official: Apple is the first U.S. public company to reach a $1 trillion market value\"\n",
        "\n",
        "# Process the text\n",
        "doc = nlp(text)\n",
        "\n",
        "# Iterate over the predicted entities\n",
        "for ent in doc.ents:\n",
        "    # Print the entity text and its label\n",
        "    print(ent.text, ent.label_)"
      ],
      "execution_count": null,
      "outputs": [
        {
          "output_type": "stream",
          "text": [
            "Apple ORG\n",
            "first ORDINAL\n",
            "U.S. GPE\n",
            "$1 trillion MONEY\n"
          ],
          "name": "stdout"
        }
      ]
    },
    {
      "cell_type": "markdown",
      "metadata": {
        "id": "RIWpSjfGLAQ0",
        "colab_type": "text"
      },
      "source": [
        "### 9. Predicting named entities in context"
      ]
    },
    {
      "cell_type": "markdown",
      "metadata": {
        "id": "GEhI64b9LGO4",
        "colab_type": "text"
      },
      "source": [
        "Models are statistical and not *always* right. Whether their predictions are correct depends on the training data and the text you’re processing. Let’s take a look at an example.\n",
        "\n",
        "*   Process the text with the `nlp` object.\n",
        "*   Iterate over the entities and print the entity text and label.\n",
        "*   Looks like the model didn’t predict “iPhone X”. Create a span for those tokens manually."
      ]
    },
    {
      "cell_type": "code",
      "metadata": {
        "id": "tOK4_QIkLSQZ",
        "colab_type": "code",
        "colab": {
          "base_uri": "https://localhost:8080/",
          "height": 52
        },
        "outputId": "b4f674f9-a82b-413d-b9db-94312fe5ad5d"
      },
      "source": [
        "import spacy\n",
        "\n",
        "nlp = spacy.load(\"en_core_web_sm\")\n",
        "\n",
        "text = \"New iPhone X release date leaked as Apple reveals pre-orders by mistake\"\n",
        "\n",
        "# Process the text\n",
        "doc = nlp(text)\n",
        "\n",
        "# Iterate over the entities\n",
        "for ent in doc.ents:\n",
        "    # Print the entity text and label\n",
        "    print(ent.text, ent.label_)\n",
        "\n",
        "# Get the span for \"iPhone X\"\n",
        "iphone_x = doc[1:3]\n",
        "\n",
        "# Print the span text\n",
        "print(\"Missing entity:\", iphone_x.text)"
      ],
      "execution_count": null,
      "outputs": [
        {
          "output_type": "stream",
          "text": [
            "Apple ORG\n",
            "Missing entity: iPhone X\n"
          ],
          "name": "stdout"
        }
      ]
    },
    {
      "cell_type": "markdown",
      "metadata": {
        "id": "aunVGtecL1gy",
        "colab_type": "text"
      },
      "source": [
        "### 10. Rule-based matching"
      ]
    },
    {
      "cell_type": "markdown",
      "metadata": {
        "id": "eLI8ym6-L3gf",
        "colab_type": "text"
      },
      "source": [
        "In this lesson, we'll take a look at spaCy's matcher, which lets you write rules to find words and phrases in text."
      ]
    },
    {
      "cell_type": "markdown",
      "metadata": {
        "id": "QDRUTsGlL_cv",
        "colab_type": "text"
      },
      "source": [
        "#### Why not just regular expressions?"
      ]
    },
    {
      "cell_type": "markdown",
      "metadata": {
        "id": "SS8AyMmjMDIJ",
        "colab_type": "text"
      },
      "source": [
        "\n",
        "\n",
        "*   Match on `Doc` objects, not just strings – Compared to regular expressions, the matcher works with Doc and Token objects instead of only strings.\n",
        "*   Match on tokens and token attributes – It's also more flexible: you can search for texts but also other lexical attributes.\n",
        "*   Use the model's predictions – You can even write rules that use the model's predictions.\n",
        "*   Example: \"duck\" (verb) vs. \"duck\" (noun) – For example, find the word \"duck\" only if it's a verb, not a noun."
      ]
    },
    {
      "cell_type": "markdown",
      "metadata": {
        "id": "H7kwTqgEMSSN",
        "colab_type": "text"
      },
      "source": [
        "#### Match patterns"
      ]
    },
    {
      "cell_type": "markdown",
      "metadata": {
        "id": "9xxOm7dKMUTK",
        "colab_type": "text"
      },
      "source": [
        "*   Lists of dictionaries, one per token – Match patterns are lists of dictionaries. Each dictionary describes one token. The keys are the names of token attributes, mapped to their expected values.\n",
        "*   Match exact token texts – In this example, we're looking for two tokens with the text \"iPhone\" and \"X\".\n",
        "     * ` [{'TEXT': 'iPhone'}, {'TEXT': 'X'}]`\n",
        "*   Match lexical attributes – We can also match on other token attributes. Here, we're looking for two tokens whose lowercase forms equal \"iphone\" and \"x\".\n",
        "     * `[{'LOWER': 'iphone'}, {'LOWER': 'x'}]`\n",
        "*   Match any token attributes – We can even write patterns using attributes predicted by the model. Here, we're matching a token with the lemma \"buy\", plus a noun. The lemma is the base form, so this pattern would match phrases like \"buying milk\" or \"bought flowers\".\n",
        "     * `[{'LEMMA': 'buy'}, {'POS': 'NOUN'}]`"
      ]
    },
    {
      "cell_type": "markdown",
      "metadata": {
        "id": "xXJ2jpJWM9Iv",
        "colab_type": "text"
      },
      "source": [
        "#### Using the Matcher (1)"
      ]
    },
    {
      "cell_type": "markdown",
      "metadata": {
        "id": "-ZJAmAIcO7oE",
        "colab_type": "text"
      },
      "source": [
        "To use a pattern, we first import the matcher from spacy dot matcher.\n",
        "\n",
        "We also load a model and create the nlp object.\n",
        "\n",
        "The matcher is initialized with the shared vocabulary, nlp dot vocab. You'll learn more about this later – for now, just remember to always pass it in.\n",
        "\n",
        "The matcher dot add method lets you add a pattern. The first argument is a unique ID to identify which pattern was matched. The second argument is an optional callback. We don't need one here, so we set it to None. The third argument is the pattern.\n",
        "\n",
        "To match the pattern on a text, we can call the matcher on any doc.\n",
        "\n",
        "This will return the matches.\n"
      ]
    },
    {
      "cell_type": "code",
      "metadata": {
        "id": "uYPJYLYaO9tM",
        "colab_type": "code",
        "colab": {}
      },
      "source": [
        "import spacy\n",
        "\n",
        "# Import the Matcher\n",
        "from spacy.matcher import Matcher\n",
        "\n",
        "# Load a model and create the nlp object\n",
        "nlp = spacy.load('en_core_web_sm')\n",
        "\n",
        "# Initialize the matcher with the shared vocab\n",
        "matcher = Matcher(nlp.vocab)\n",
        "\n",
        "# Add the pattern to the matcher\n",
        "pattern = [{'TEXT': 'iPhone'}, {'TEXT': 'X'}]\n",
        "matcher.add('IPHONE_PATTERN', None, pattern)\n",
        "\n",
        "# Process some text\n",
        "doc = nlp(\"New iPhone X release date leaked\")\n",
        "\n",
        "# Call the matcher on the doc\n",
        "matches = matcher(doc)"
      ],
      "execution_count": null,
      "outputs": []
    },
    {
      "cell_type": "code",
      "metadata": {
        "id": "p8zSfKEEQCuq",
        "colab_type": "code",
        "colab": {
          "base_uri": "https://localhost:8080/",
          "height": 121
        },
        "outputId": "8fe8983f-7cdd-4a3d-d0a4-86af26904e18"
      },
      "source": [
        "matches"
      ],
      "execution_count": null,
      "outputs": [
        {
          "output_type": "execute_result",
          "data": {
            "text/plain": [
              "[(52997568, 0, 1),\n",
              " (52997568, 1, 2),\n",
              " (52997568, 2, 3),\n",
              " (52997568, 3, 4),\n",
              " (52997568, 4, 5),\n",
              " (52997568, 5, 6)]"
            ]
          },
          "metadata": {
            "tags": []
          },
          "execution_count": 2
        }
      ]
    },
    {
      "cell_type": "markdown",
      "metadata": {
        "id": "SXJFkM2SP6XP",
        "colab_type": "text"
      },
      "source": [
        "#### Using the Matcher (2)"
      ]
    },
    {
      "cell_type": "markdown",
      "metadata": {
        "id": "bkpVvGJKP_1M",
        "colab_type": "text"
      },
      "source": [
        "When you call the matcher on a doc, it returns a list of tuples.\n",
        "\n",
        "Each tuple consists of three values: the match ID, the start index and the end index of the matched span.\n",
        "\n",
        "This means we can iterate over the matches and create a Span object: a slice of the doc at the start and end index.\n",
        "\n",
        "*   `match_id`: hash value of the pattern name\n",
        "*   `start`: start index of matched span\n",
        "*   `end`: end index of matched span"
      ]
    },
    {
      "cell_type": "code",
      "metadata": {
        "id": "roLOYL2IQFzW",
        "colab_type": "code",
        "colab": {
          "base_uri": "https://localhost:8080/",
          "height": 121
        },
        "outputId": "f2803b1d-d145-4e10-e4c0-4b9eb35776a8"
      },
      "source": [
        "# Call the matcher on the doc\n",
        "doc = nlp(\"New iPhone X release date leaked\")\n",
        "matches = matcher(doc)\n",
        "\n",
        "# Iterate over the matches\n",
        "for match_id, start, end in matches:\n",
        "    # Get the matched span\n",
        "    matched_span = doc[start:end]\n",
        "    print(matched_span.text)"
      ],
      "execution_count": null,
      "outputs": [
        {
          "output_type": "stream",
          "text": [
            "New\n",
            "iPhone\n",
            "X\n",
            "release\n",
            "date\n",
            "leaked\n"
          ],
          "name": "stdout"
        }
      ]
    },
    {
      "cell_type": "markdown",
      "metadata": {
        "id": "tI5do9Ukl0Kh",
        "colab_type": "text"
      },
      "source": [
        "#### Matching lexical attributes"
      ]
    },
    {
      "cell_type": "markdown",
      "metadata": {
        "id": "529IGOisl22U",
        "colab_type": "text"
      },
      "source": [
        "Here's an example of a more complex pattern using lexical attributes.\n",
        "\n",
        "We're looking for five tokens:\n",
        "\n",
        "A token consisting of only digits.\n",
        "\n",
        "Three case-insensitive tokens for \"fifa\", \"world\" and \"cup\".\n",
        "\n",
        "And a token that consists of punctuation.\n",
        "\n",
        "The pattern matches the tokens \"2018 FIFA World Cup:\".\n"
      ]
    },
    {
      "cell_type": "code",
      "metadata": {
        "id": "1bb8RiIGl50z",
        "colab_type": "code",
        "colab": {}
      },
      "source": [
        "pattern = [\n",
        "    {'IS_DIGIT': True},\n",
        "    {'LOWER': 'fifa'},\n",
        "    {'LOWER': 'world'},\n",
        "    {'LOWER': 'cup'},\n",
        "    {'IS_PUNCT': True}\n",
        "]"
      ],
      "execution_count": null,
      "outputs": []
    },
    {
      "cell_type": "code",
      "metadata": {
        "id": "mVe0oB-Oa8wo",
        "colab_type": "code",
        "colab": {}
      },
      "source": [
        "doc = nlp(\"2018 FIFA World Cup: France won!\")"
      ],
      "execution_count": null,
      "outputs": []
    },
    {
      "cell_type": "markdown",
      "metadata": {
        "id": "EHqbyTxAmEt5",
        "colab_type": "text"
      },
      "source": [
        "#### Matching other token attributes"
      ]
    },
    {
      "cell_type": "markdown",
      "metadata": {
        "id": "NL3JVJ2jmHpf",
        "colab_type": "text"
      },
      "source": [
        "In this example, we're looking for two tokens:\n",
        "\n",
        "A verb with the lemma \"love\", followed by a noun.\n",
        "\n",
        "This pattern will match \"loved dogs\" and \"love cats\".\n"
      ]
    },
    {
      "cell_type": "code",
      "metadata": {
        "id": "M1d8EaqbmJdd",
        "colab_type": "code",
        "colab": {}
      },
      "source": [
        "pattern = [\n",
        "    {'LEMMA': 'love', 'POS': 'VERB'},\n",
        "    {'POS': 'NOUN'}\n",
        "]"
      ],
      "execution_count": null,
      "outputs": []
    },
    {
      "cell_type": "code",
      "metadata": {
        "id": "fLPWuyQBmL7g",
        "colab_type": "code",
        "colab": {}
      },
      "source": [
        "doc = nlp(\"I loved dogs but now I love cats more.\")"
      ],
      "execution_count": null,
      "outputs": []
    },
    {
      "cell_type": "markdown",
      "metadata": {
        "id": "ZmEhbhu_mPf0",
        "colab_type": "text"
      },
      "source": [
        "#### Using operators and quantifiers (1)"
      ]
    },
    {
      "cell_type": "markdown",
      "metadata": {
        "id": "4cWy4VuomSCQ",
        "colab_type": "text"
      },
      "source": [
        "Operators and quantifiers let you define how often a token should be matched. They can be added using the \"OP\" key.\n",
        "\n",
        "Here, the \"?\" operator makes the determiner token optional, so it will match a token with the lemma \"buy\", an optional article and a noun.\n"
      ]
    },
    {
      "cell_type": "code",
      "metadata": {
        "id": "cmIFQ58imT6H",
        "colab_type": "code",
        "colab": {}
      },
      "source": [
        "pattern = [\n",
        "    {'LEMMA': 'buy'},\n",
        "    {'POS': 'DET', 'OP': '?'},  # optional: match 0 or 1 times\n",
        "    {'POS': 'NOUN'}\n",
        "]"
      ],
      "execution_count": null,
      "outputs": []
    },
    {
      "cell_type": "code",
      "metadata": {
        "id": "zTRK4abomVt3",
        "colab_type": "code",
        "colab": {}
      },
      "source": [
        "doc = nlp(\"I bought a smartphone. Now I'm buying apps.\")"
      ],
      "execution_count": null,
      "outputs": []
    },
    {
      "cell_type": "markdown",
      "metadata": {
        "id": "OncHw7x0maED",
        "colab_type": "text"
      },
      "source": [
        "#### Using operators and quantifiers (2)"
      ]
    },
    {
      "cell_type": "markdown",
      "metadata": {
        "id": "Fji8dzG5mcky",
        "colab_type": "text"
      },
      "source": [
        "\"OP\" can have one of four values:\n",
        "\n",
        "An \"!\" negates the token, so it's matched 0 times.\n",
        "\n",
        "A \"?\" makes the token optional, and matches it 0 or 1 times.\n",
        "\n",
        "A \"+\" matches a token 1 or more times.\n",
        "\n",
        "And finally, an \"*\" matches 0 or more times.\n",
        "\n",
        "Operators can make your patterns a lot more powerful, but they also add more complexity – so use them wisely.\n",
        "\n",
        "| Example | Description |\n",
        "|-------|----------------------|\n",
        "| {'OP': '!'} | Negation: match 0 times |\n",
        "| {'OP': '?'}  | Optional: match 0 or 1 times |\n",
        "| {'OP': '+'} | Match 1 or more times |\n",
        "| {'OP': '\\*'} | Match 0 or more times |"
      ]
    },
    {
      "cell_type": "markdown",
      "metadata": {
        "id": "BXhXX1jCnWjT",
        "colab_type": "text"
      },
      "source": [
        "### 11. Using the Matcher"
      ]
    },
    {
      "cell_type": "markdown",
      "metadata": {
        "id": "ZUiP4DgxnalH",
        "colab_type": "text"
      },
      "source": [
        "Let’s try spaCy’s rule-based `Matcher`. You’ll be using the example from the previous exercise and write a pattern that can match the phrase “iPhone X” in the text.\n",
        "\n",
        "*   Import the `Matcher` from `spacy.matcher`.\n",
        "*   Initialize it with the `nlp` object’s shared `vocab`.\n",
        "*   Create a pattern that matches the `'TEXT'` values of two tokens: `\"iPhone\"` and `\"X\"`.\n",
        "*   Use the `matcher.add` method to add the pattern to the matcher.\n",
        "*   Call the matcher on the `doc` and store the result in the variable `matches`.\n",
        "*   Iterate over the matches and get the matched span from the `start` to the `end` index."
      ]
    },
    {
      "cell_type": "code",
      "metadata": {
        "id": "GyBwfvbnn9_i",
        "colab_type": "code",
        "colab": {
          "base_uri": "https://localhost:8080/",
          "height": 34
        },
        "outputId": "fd7ea195-a73e-4eb1-901c-01aa15f1f101"
      },
      "source": [
        "import spacy\n",
        "\n",
        "# Import the Matcher\n",
        "from spacy.matcher import Matcher\n",
        "\n",
        "nlp = spacy.load(\"en_core_web_sm\")\n",
        "doc = nlp(\"New iPhone X release date leaked as Apple reveals pre-orders by mistake\")\n",
        "\n",
        "# Initialize the Matcher with the shared vocabulary\n",
        "matcher = Matcher(nlp.vocab)\n",
        "\n",
        "# Create a pattern matching two tokens: \"iPhone\" and \"X\"\n",
        "pattern = [{'TEXT': 'iPhone'}, {'TEXT': 'X'}]\n",
        "\n",
        "# Add the pattern to the matcher\n",
        "matcher.add(\"IPHONE_X_PATTERN\", None, pattern)\n",
        "\n",
        "# Use the matcher on the doc\n",
        "matches = matcher(doc)\n",
        "print(\"Matches:\", [doc[start:end].text for match_id, start, end in matches])"
      ],
      "execution_count": null,
      "outputs": [
        {
          "output_type": "stream",
          "text": [
            "Matches: ['New', 'iPhone', 'X', 'release', 'date', 'leaked', 'as', 'Apple', 'reveals', 'pre', '-', 'orders', 'by', 'mistake']\n"
          ],
          "name": "stdout"
        }
      ]
    },
    {
      "cell_type": "markdown",
      "metadata": {
        "id": "J4dW0HVIf6k7",
        "colab_type": "text"
      },
      "source": [
        "## Chapter 2: Large-scale data analysis with spaCy\n",
        "\n",
        "In this chapter, you'll use your new skills to extract specific information from large volumes of text. You''ll learn how to make the most of spaCy's data structures, and how to effectively combine statistical and rule-based approaches for text analysis."
      ]
    },
    {
      "cell_type": "markdown",
      "metadata": {
        "id": "Ds7hE_aNg9W-",
        "colab_type": "text"
      },
      "source": [
        "## Chapter 3: Processing Pipelines\n",
        "\n",
        "This chapter will show you to everything you need to know about spaCy's processing pipeline. You'll learn what goes on under the hood when you process a text, how to write your own components and add them to the pipeline, and how to use custom attributes to add your own meta data to the documents, spans and tokens."
      ]
    },
    {
      "cell_type": "markdown",
      "metadata": {
        "id": "HbDwnSRthBXD",
        "colab_type": "text"
      },
      "source": [
        "## Chapter 4: Training a neural network model\n",
        "\n",
        "In this chapter, you'll learn how to update spaCy's statistical models to customize them for your use case – for example, to predict a new entity type in online comments. You'll write your own training loop from scratch, and understand the basics of how training works, along with tips and tricks that can make your custom NLP projects more successful."
      ]
    },
    {
      "cell_type": "markdown",
      "metadata": {
        "id": "7VAJdXIaEXVI",
        "colab_type": "text"
      },
      "source": [
        "## Miscellaneous spaCy Snippets"
      ]
    },
    {
      "cell_type": "markdown",
      "metadata": {
        "id": "CJg9-nwNEdTg",
        "colab_type": "text"
      },
      "source": [
        "#### displaCy visualizer"
      ]
    },
    {
      "cell_type": "code",
      "metadata": {
        "id": "9A4TKIboD6rW",
        "colab_type": "code",
        "colab": {
          "base_uri": "https://localhost:8080/",
          "height": 509
        },
        "outputId": "63c157b7-5d9c-41cc-b055-e68fb6220022"
      },
      "source": [
        "# In[1]:\n",
        "import spacy\n",
        "from spacy import displacy\n",
        "\n",
        "# In[2]:\n",
        "doc = nlp(u\"Rats are various medium-sized, long-tailed rodents.\")\n",
        "displacy.render(doc, style=\"dep\")\n",
        "\n",
        "from IPython.core.display import display, HTML\n",
        "\n",
        "html = displacy.render(doc, style=\"dep\")\n",
        "display(HTML(html))"
      ],
      "execution_count": null,
      "outputs": [
        {
          "output_type": "display_data",
          "data": {
            "text/html": [
              "<svg xmlns=\"http://www.w3.org/2000/svg\" xmlns:xlink=\"http://www.w3.org/1999/xlink\" id=\"11-0\" class=\"displacy\" width=\"1450\" height=\"487.0\" style=\"max-width: none; height: 487.0px; color: #000000; background: #ffffff; font-family: Arial\">\n",
              "<text class=\"displacy-token\" fill=\"currentColor\" text-anchor=\"middle\" y=\"397.0\">\n",
              "    <tspan class=\"displacy-word\" fill=\"currentColor\" x=\"50\">Rats</tspan>\n",
              "    <tspan class=\"displacy-tag\" dy=\"2em\" fill=\"currentColor\" x=\"50\">NOUN</tspan>\n",
              "</text>\n",
              "\n",
              "<text class=\"displacy-token\" fill=\"currentColor\" text-anchor=\"middle\" y=\"397.0\">\n",
              "    <tspan class=\"displacy-word\" fill=\"currentColor\" x=\"225\">are</tspan>\n",
              "    <tspan class=\"displacy-tag\" dy=\"2em\" fill=\"currentColor\" x=\"225\">VERB</tspan>\n",
              "</text>\n",
              "\n",
              "<text class=\"displacy-token\" fill=\"currentColor\" text-anchor=\"middle\" y=\"397.0\">\n",
              "    <tspan class=\"displacy-word\" fill=\"currentColor\" x=\"400\">various</tspan>\n",
              "    <tspan class=\"displacy-tag\" dy=\"2em\" fill=\"currentColor\" x=\"400\">ADJ</tspan>\n",
              "</text>\n",
              "\n",
              "<text class=\"displacy-token\" fill=\"currentColor\" text-anchor=\"middle\" y=\"397.0\">\n",
              "    <tspan class=\"displacy-word\" fill=\"currentColor\" x=\"575\">medium-</tspan>\n",
              "    <tspan class=\"displacy-tag\" dy=\"2em\" fill=\"currentColor\" x=\"575\">NOUN</tspan>\n",
              "</text>\n",
              "\n",
              "<text class=\"displacy-token\" fill=\"currentColor\" text-anchor=\"middle\" y=\"397.0\">\n",
              "    <tspan class=\"displacy-word\" fill=\"currentColor\" x=\"750\">sized,</tspan>\n",
              "    <tspan class=\"displacy-tag\" dy=\"2em\" fill=\"currentColor\" x=\"750\">ADJ</tspan>\n",
              "</text>\n",
              "\n",
              "<text class=\"displacy-token\" fill=\"currentColor\" text-anchor=\"middle\" y=\"397.0\">\n",
              "    <tspan class=\"displacy-word\" fill=\"currentColor\" x=\"925\">long-</tspan>\n",
              "    <tspan class=\"displacy-tag\" dy=\"2em\" fill=\"currentColor\" x=\"925\">ADV</tspan>\n",
              "</text>\n",
              "\n",
              "<text class=\"displacy-token\" fill=\"currentColor\" text-anchor=\"middle\" y=\"397.0\">\n",
              "    <tspan class=\"displacy-word\" fill=\"currentColor\" x=\"1100\">tailed</tspan>\n",
              "    <tspan class=\"displacy-tag\" dy=\"2em\" fill=\"currentColor\" x=\"1100\">VERB</tspan>\n",
              "</text>\n",
              "\n",
              "<text class=\"displacy-token\" fill=\"currentColor\" text-anchor=\"middle\" y=\"397.0\">\n",
              "    <tspan class=\"displacy-word\" fill=\"currentColor\" x=\"1275\">rodents.</tspan>\n",
              "    <tspan class=\"displacy-tag\" dy=\"2em\" fill=\"currentColor\" x=\"1275\">NOUN</tspan>\n",
              "</text>\n",
              "\n",
              "<g class=\"displacy-arrow\">\n",
              "    <path class=\"displacy-arc\" id=\"arrow-11-0-0\" stroke-width=\"2px\" d=\"M70,352.0 C70,264.5 210.0,264.5 210.0,352.0\" fill=\"none\" stroke=\"currentColor\"/>\n",
              "    <text dy=\"1.25em\" style=\"font-size: 0.8em; letter-spacing: 1px\">\n",
              "        <textPath xlink:href=\"#arrow-11-0-0\" class=\"displacy-label\" startOffset=\"50%\" fill=\"currentColor\" text-anchor=\"middle\">nsubj</textPath>\n",
              "    </text>\n",
              "    <path class=\"displacy-arrowhead\" d=\"M70,354.0 L62,342.0 78,342.0\" fill=\"currentColor\"/>\n",
              "</g>\n",
              "\n",
              "<g class=\"displacy-arrow\">\n",
              "    <path class=\"displacy-arc\" id=\"arrow-11-0-1\" stroke-width=\"2px\" d=\"M420,352.0 C420,89.5 1270.0,89.5 1270.0,352.0\" fill=\"none\" stroke=\"currentColor\"/>\n",
              "    <text dy=\"1.25em\" style=\"font-size: 0.8em; letter-spacing: 1px\">\n",
              "        <textPath xlink:href=\"#arrow-11-0-1\" class=\"displacy-label\" startOffset=\"50%\" fill=\"currentColor\" text-anchor=\"middle\">amod</textPath>\n",
              "    </text>\n",
              "    <path class=\"displacy-arrowhead\" d=\"M420,354.0 L412,342.0 428,342.0\" fill=\"currentColor\"/>\n",
              "</g>\n",
              "\n",
              "<g class=\"displacy-arrow\">\n",
              "    <path class=\"displacy-arc\" id=\"arrow-11-0-2\" stroke-width=\"2px\" d=\"M595,352.0 C595,264.5 735.0,264.5 735.0,352.0\" fill=\"none\" stroke=\"currentColor\"/>\n",
              "    <text dy=\"1.25em\" style=\"font-size: 0.8em; letter-spacing: 1px\">\n",
              "        <textPath xlink:href=\"#arrow-11-0-2\" class=\"displacy-label\" startOffset=\"50%\" fill=\"currentColor\" text-anchor=\"middle\">amod</textPath>\n",
              "    </text>\n",
              "    <path class=\"displacy-arrowhead\" d=\"M595,354.0 L587,342.0 603,342.0\" fill=\"currentColor\"/>\n",
              "</g>\n",
              "\n",
              "<g class=\"displacy-arrow\">\n",
              "    <path class=\"displacy-arc\" id=\"arrow-11-0-3\" stroke-width=\"2px\" d=\"M770,352.0 C770,177.0 1265.0,177.0 1265.0,352.0\" fill=\"none\" stroke=\"currentColor\"/>\n",
              "    <text dy=\"1.25em\" style=\"font-size: 0.8em; letter-spacing: 1px\">\n",
              "        <textPath xlink:href=\"#arrow-11-0-3\" class=\"displacy-label\" startOffset=\"50%\" fill=\"currentColor\" text-anchor=\"middle\">amod</textPath>\n",
              "    </text>\n",
              "    <path class=\"displacy-arrowhead\" d=\"M770,354.0 L762,342.0 778,342.0\" fill=\"currentColor\"/>\n",
              "</g>\n",
              "\n",
              "<g class=\"displacy-arrow\">\n",
              "    <path class=\"displacy-arc\" id=\"arrow-11-0-4\" stroke-width=\"2px\" d=\"M945,352.0 C945,264.5 1085.0,264.5 1085.0,352.0\" fill=\"none\" stroke=\"currentColor\"/>\n",
              "    <text dy=\"1.25em\" style=\"font-size: 0.8em; letter-spacing: 1px\">\n",
              "        <textPath xlink:href=\"#arrow-11-0-4\" class=\"displacy-label\" startOffset=\"50%\" fill=\"currentColor\" text-anchor=\"middle\">advmod</textPath>\n",
              "    </text>\n",
              "    <path class=\"displacy-arrowhead\" d=\"M945,354.0 L937,342.0 953,342.0\" fill=\"currentColor\"/>\n",
              "</g>\n",
              "\n",
              "<g class=\"displacy-arrow\">\n",
              "    <path class=\"displacy-arc\" id=\"arrow-11-0-5\" stroke-width=\"2px\" d=\"M1120,352.0 C1120,264.5 1260.0,264.5 1260.0,352.0\" fill=\"none\" stroke=\"currentColor\"/>\n",
              "    <text dy=\"1.25em\" style=\"font-size: 0.8em; letter-spacing: 1px\">\n",
              "        <textPath xlink:href=\"#arrow-11-0-5\" class=\"displacy-label\" startOffset=\"50%\" fill=\"currentColor\" text-anchor=\"middle\">amod</textPath>\n",
              "    </text>\n",
              "    <path class=\"displacy-arrowhead\" d=\"M1120,354.0 L1112,342.0 1128,342.0\" fill=\"currentColor\"/>\n",
              "</g>\n",
              "\n",
              "<g class=\"displacy-arrow\">\n",
              "    <path class=\"displacy-arc\" id=\"arrow-11-0-6\" stroke-width=\"2px\" d=\"M245,352.0 C245,2.0 1275.0,2.0 1275.0,352.0\" fill=\"none\" stroke=\"currentColor\"/>\n",
              "    <text dy=\"1.25em\" style=\"font-size: 0.8em; letter-spacing: 1px\">\n",
              "        <textPath xlink:href=\"#arrow-11-0-6\" class=\"displacy-label\" startOffset=\"50%\" fill=\"currentColor\" text-anchor=\"middle\">attr</textPath>\n",
              "    </text>\n",
              "    <path class=\"displacy-arrowhead\" d=\"M1275.0,354.0 L1283.0,342.0 1267.0,342.0\" fill=\"currentColor\"/>\n",
              "</g>\n",
              "</svg>"
            ],
            "text/plain": [
              "<IPython.core.display.HTML object>"
            ]
          },
          "metadata": {
            "tags": []
          }
        }
      ]
    }
  ]
}